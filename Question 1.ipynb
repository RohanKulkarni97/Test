{
 "cells": [
  {
   "cell_type": "raw",
   "id": "d058c53b",
   "metadata": {},
   "source": [
    "Problem #1 - Data Stream Ingestion\n",
    "In a data stream, data is read in consecutive chunks - so you only have access to a certain portion of data at a given time. This is in contrast to having an entire sequence available at once. For example, Netflix and Youtube use streaming to allow users to watch chunks of video, rather than have user wait for the entire video to load - before they can start watching.\n",
    "\n",
    "Design a system that receives a stream of strings along with timestamps. Each unique string should be printed at most every 5 seconds (i.e.,  string printed at timestamp t will prevent the same message from being printed until t + 5 seconds have passed).\n",
    "\n",
    "All strings will be received in chronological order. Several strings may arrive at the same time.\n",
    "\n",
    "Implement the DataStream class:\n",
    "•\tDataStream creates a data_stream object\n",
    "•\tbool should_output_data_str(int timestamp, str data_str) returns  true if the data_string should be printed in the provided timestamp, otherwise returns false\n",
    "\n",
    "Input\n",
    "data_stream = DataStream()\n",
    "data_stream.should_output_data_str(timestamp=0, data_string=“hello”)\n",
    "data_stream.should_output_data_str(timestamp=1, data_string=“world”)\n",
    "data_stream.should_output_data_str(timestamp=6, data_string=“hello”)\n",
    "data_stream.should_output_data_str(timestamp=7, data_string=“hello”)\n",
    "data_stream.should_output_data_str(timestamp=8, data_string=“world”)\n",
    "\n",
    "Output\n",
    "[true, true, true, false, true]"
   ]
  },
  {
   "cell_type": "code",
   "execution_count": 7,
   "id": "ca80cc3c",
   "metadata": {},
   "outputs": [],
   "source": [
    "class DataStream:\n",
    "    def __init__(self):\n",
    "        self.d = {}\n",
    "    def should_output_data_str(self,timestamp, data_string):\n",
    "        self.d[timestamp] = data_string\n",
    "        _ = list(self.d.values()).count(data_string)\n",
    "        if _ == 1:\n",
    "            return True\n",
    "        else:\n",
    "            temp_ = list(self.d.values())[-2::-1]\n",
    "            index = temp_.index(data_string)\n",
    "            index += 2\n",
    "            ind = len(list(self.d.values()))-index\n",
    "            if abs(list(self.d.keys())[ind] - timestamp) >= 5:\n",
    "                return True\n",
    "            else:\n",
    "                return False"
   ]
  },
  {
   "cell_type": "code",
   "execution_count": 11,
   "id": "25412b94",
   "metadata": {
    "scrolled": true
   },
   "outputs": [
    {
     "name": "stdout",
     "output_type": "stream",
     "text": [
      "True\n",
      "True\n",
      "True\n",
      "False\n",
      "True\n"
     ]
    }
   ],
   "source": [
    "data_stream=DataStream()        \n",
    "print(data_stream.should_output_data_str(timestamp=0, data_string='hello')) \n",
    "print(data_stream.should_output_data_str(timestamp=1, data_string='world'))\n",
    "print(data_stream.should_output_data_str(timestamp=6, data_string='hello'))\n",
    "print(data_stream.should_output_data_str(timestamp=7, data_string='hello'))\n",
    "print(data_stream.should_output_data_str(timestamp=8, data_string='world'))"
   ]
  }
 ],
 "metadata": {
  "kernelspec": {
   "display_name": "Python 3 (ipykernel)",
   "language": "python",
   "name": "python3"
  },
  "language_info": {
   "codemirror_mode": {
    "name": "ipython",
    "version": 3
   },
   "file_extension": ".py",
   "mimetype": "text/x-python",
   "name": "python",
   "nbconvert_exporter": "python",
   "pygments_lexer": "ipython3",
   "version": "3.9.7"
  }
 },
 "nbformat": 4,
 "nbformat_minor": 5
}
