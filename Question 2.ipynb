{
 "cells": [
  {
   "cell_type": "raw",
   "id": "4474dd8b",
   "metadata": {},
   "source": [
    "Problem #2 - Fuel Station Design\n",
    "Design a fuel station for 3 types of vehicles - Diesel, Petrol, and Electric. There are a fixed number of spots for each type of vehicle at the fuel station.\n",
    "\n",
    "Implement the FuelStation class:\n",
    "•\tFuelStation(int diesel, int petrol, int electric) creates a  FuelStation object. The number of spots for each type of fuel is defined by the values provided to the constructor.\n",
    "•\tbool fuel_vehicle(str fuel_type)looks up whether there is an open slot that can provide fuel_type. A vehicle can only be fueled in a slot space of its fuel_type. If there is no slot free, return false, else put the vehicle in that fuel slot and return true.\n",
    "•\tbool open_fuel_slot(str fuel_type)releases a fuel slot of fuel_type so that another vehicle can be fueled. If you try to open a fuel slot, when all slots of a fuel_type are empty, return false. Otherwise, return true.\n",
    "\n",
    "Input & Output:\n",
    "fuel_station = FuelStation(diesel=2, petrol=2, electric=1)\n",
    "fuel_station.fuel_vehicle(“diesel”) -> true (1 slot now open)\n",
    "fuel_station.fuel_vehicle(“petrol”) -> true (1 slot now open)\n",
    "fuel_station.fuel_vehicle(“diesel”) -> true (0 slots now open)\n",
    "fuel_station.fuel_vehicle(“electric”) -> true (0 slots now open)\n",
    "fuel_station.fuel_vehicle(“diesel”) -> false (0 slots open)\n",
    "fuel_station.open_fuel_slot(“diesel”) -> true (1 slot now open)\n",
    "fuel_station.fuel_vehicle(“diesel”) -> true (0 slots now open)\n",
    "fuel_station.open_fuel_slot(“electric”) -> true (1 slot now open)\n",
    "fuel_station.open_fuel_slot(“electric”) -> false (only 1 slot available at fuel station)"
   ]
  },
  {
   "cell_type": "code",
   "execution_count": 1,
   "id": "2d6c3de5",
   "metadata": {},
   "outputs": [],
   "source": [
    "class FuelStation:\n",
    "    def __init__(self,diesel, petrol, electric):\n",
    "        self.diesel =diesel\n",
    "        self.petrol =petrol\n",
    "        self.electric = electric\n",
    "        self._diesel,self._petrol,self._electric = diesel, petrol, electric\n",
    "    def fuel_vehicle(self, type):\n",
    "        if type == \"diesel\":\n",
    "            if self.diesel > 0:\n",
    "                self.diesel -= 1\n",
    "                print(True)\n",
    "            else:\n",
    "                print(False)\n",
    "        elif type == \"petrol\":\n",
    "            if self.petrol > 0:\n",
    "                self.petrol -= 1\n",
    "                return True\n",
    "            else:\n",
    "                return False\n",
    "        elif type == \"electric\":\n",
    "            if self.electric > 0:\n",
    "                self.electric -= 1\n",
    "                return True\n",
    "            else:\n",
    "                return False\n",
    "        \n",
    "    def open_fuel_slot(self, type):\n",
    "        \n",
    "        if type == \"diesel\":\n",
    "            if self.diesel < self._diesel:\n",
    "                self.diesel += 1\n",
    "                return True\n",
    "            else:\n",
    "                return False\n",
    "        elif type == \"petrol\":\n",
    "            if self.petrol < self._petrol:\n",
    "                self.petrol += 1\n",
    "                return True\n",
    "            else:\n",
    "                return False\n",
    "        elif type == \"electric\":\n",
    "            if self.electric < self._electric:\n",
    "                self.electric += 1\n",
    "                return True\n",
    "            else:\n",
    "                return False"
   ]
  },
  {
   "cell_type": "code",
   "execution_count": 2,
   "id": "d57806bd",
   "metadata": {},
   "outputs": [
    {
     "name": "stdout",
     "output_type": "stream",
     "text": [
      "True\n"
     ]
    }
   ],
   "source": [
    "fuel_station = FuelStation(diesel=2, petrol=2, electric=1)\n",
    "fuel_station.fuel_vehicle('diesel')"
   ]
  }
 ],
 "metadata": {
  "kernelspec": {
   "display_name": "Python 3 (ipykernel)",
   "language": "python",
   "name": "python3"
  },
  "language_info": {
   "codemirror_mode": {
    "name": "ipython",
    "version": 3
   },
   "file_extension": ".py",
   "mimetype": "text/x-python",
   "name": "python",
   "nbconvert_exporter": "python",
   "pygments_lexer": "ipython3",
   "version": "3.9.7"
  }
 },
 "nbformat": 4,
 "nbformat_minor": 5
}
