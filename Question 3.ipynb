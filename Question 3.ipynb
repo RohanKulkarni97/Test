{
 "cells": [
  {
   "cell_type": "raw",
   "id": "77494823",
   "metadata": {},
   "source": [
    "Problem #3 - Debug Calendar Design\n",
    "\n",
    "Your teammate has implemented a calendar program, but it doesn’t work as expected.  \n",
    "Ideally, a user should be able to add a new event, if it does not cause a double booking.\n",
    "Double bookings occur when two events overlap in time. For example,\n",
    "Event A lasts from Saturday 2 pm - 5 pm and Event B lasts Saturday 3 pm - 4 pm.\n",
    "These events overlap and would be considered a double booking.\n",
    "Events are represented as a pair of ints - start and end.\n",
    "Two events can be scheduled back to back, e.g. Event A can be [2,3) and Event B can be [3, 4).\n",
    "Your teammate has already implemented the Calendar class:\n",
    "•\tCalendar() Initializes the calendar object.\n",
    "•\tboolean schedule(int start, int end) \n",
    "Returns true if the event can be added without causing a double booking.\n",
    "Returns false otherwise  and does not add the event to the calendar.\n",
    "Your teammate’s code can be found in the attached file calendar.py.\n",
    "Please debug the code to fix the current issues. When submitting this portion of the assignment,\n",
    "please attach your fixed code and a README.md file that explains how you debugged it step-by-step and what\n",
    "the underlying issue was. We may discuss this document at the end of the evaluation.\n",
    "Example Input & Output\n",
    "calendar = Calendar()\n",
    "calendar.book(5, 10) -> Expect True\n",
    "calendar.book(8, 13) -> Expect False\n",
    "calendar.book(10, 15) -> Expect True"
   ]
  },
  {
   "cell_type": "code",
   "execution_count": 4,
   "id": "78b477c7",
   "metadata": {},
   "outputs": [],
   "source": [
    "# Solution\n",
    "class Node():\n",
    "    def __init__(self, start: int, end: int):\n",
    "        self.start: int = start\n",
    "        self.end: int = end\n",
    "        self.left_child: Optional[Node] = None\n",
    "        self.right_child: Optional[Node] = None\n",
    "\n",
    "    def insert(self, node: 'Node') -> bool:\n",
    "        if node.start >= self.end:\n",
    "            if not self.right_child:\n",
    "                self.right_child = node\n",
    "                return True\n",
    "            return self.right_child.insert(node)\n",
    "            \n",
    "        elif node.start >= self.start:\n",
    "            if not self.left_child:\n",
    "                self.left_child = node\n",
    "                return False\n",
    "            return self.left_child.insert(node)\n",
    "        else:\n",
    "            return True\n",
    "class Calendar():\n",
    "    def __init__(self):\n",
    "        self.root: Node = None\n",
    "\n",
    "    def book(self, start: int, end: int) -> bool:\n",
    "        if self.root is None:\n",
    "            self.root = Node(start=start, end=end)\n",
    "            return True\n",
    "        return self.root.insert(node=Node(start, end))"
   ]
  },
  {
   "cell_type": "code",
   "execution_count": 5,
   "id": "134dcc68",
   "metadata": {},
   "outputs": [
    {
     "data": {
      "text/plain": [
       "True"
      ]
     },
     "execution_count": 5,
     "metadata": {},
     "output_type": "execute_result"
    }
   ],
   "source": [
    "calendar = Calendar()\n",
    "calendar.book(5,10)"
   ]
  },
  {
   "cell_type": "code",
   "execution_count": 6,
   "id": "300d9a30",
   "metadata": {},
   "outputs": [
    {
     "data": {
      "text/plain": [
       "False"
      ]
     },
     "execution_count": 6,
     "metadata": {},
     "output_type": "execute_result"
    }
   ],
   "source": [
    "calendar.book(8,13)"
   ]
  },
  {
   "cell_type": "code",
   "execution_count": 7,
   "id": "be1f7c7f",
   "metadata": {},
   "outputs": [
    {
     "data": {
      "text/plain": [
       "True"
      ]
     },
     "execution_count": 7,
     "metadata": {},
     "output_type": "execute_result"
    }
   ],
   "source": [
    "calendar.book(10,15)"
   ]
  }
 ],
 "metadata": {
  "kernelspec": {
   "display_name": "Python 3 (ipykernel)",
   "language": "python",
   "name": "python3"
  },
  "language_info": {
   "codemirror_mode": {
    "name": "ipython",
    "version": 3
   },
   "file_extension": ".py",
   "mimetype": "text/x-python",
   "name": "python",
   "nbconvert_exporter": "python",
   "pygments_lexer": "ipython3",
   "version": "3.9.7"
  }
 },
 "nbformat": 4,
 "nbformat_minor": 5
}
